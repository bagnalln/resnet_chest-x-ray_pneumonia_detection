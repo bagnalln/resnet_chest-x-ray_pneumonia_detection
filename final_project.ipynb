{
  "nbformat": 4,
  "nbformat_minor": 0,
  "metadata": {
    "language_info": {
      "codemirror_mode": {
        "name": "ipython",
        "version": 3
      },
      "file_extension": ".py",
      "mimetype": "text/x-python",
      "name": "python",
      "nbconvert_exporter": "python",
      "pygments_lexer": "ipython3",
      "version": "3.8.5-final"
    },
    "orig_nbformat": 2,
    "kernelspec": {
      "name": "python3",
      "display_name": "Python 3.8.5 64-bit ('final_5831': conda)",
      "metadata": {
        "interpreter": {
          "hash": "07b6d7f94bdfc10d084f646ef9d513466ba01b4d9118b1da68cbcf1510612631"
        }
      }
    },
    "colab": {
      "name": "final_project.ipynb",
      "provenance": [],
      "collapsed_sections": []
    },
    "accelerator": "GPU"
  },
  "cells": [
    {
      "cell_type": "markdown",
      "metadata": {
        "id": "M_Wh15QWSU-e"
      },
      "source": [
        "# ECE 5831 Final Project: Chest X-Ray Pneumonia Detection Using ResNet and Transfer Learning\n",
        "#### Nathan Bagnall"
      ]
    },
    {
      "cell_type": "code",
      "metadata": {
        "colab": {
          "base_uri": "https://localhost:8080/"
        },
        "id": "zzULqu6aTWpk",
        "outputId": "6217d1bd-d8f9-4e39-9b53-7baf09c49e2c"
      },
      "source": [
        "import torch\n",
        "#colab stuff to enable faster training\n",
        "from google.colab import drive, files\n",
        "drive.mount('/content/drive')\n",
        "colab = True\n",
        "#detect GPU\n",
        "device = torch.device(\"cuda:0\" if torch.cuda.is_available() else \"cpu\")\n",
        "print(device)"
      ],
      "execution_count": null,
      "outputs": [
        {
          "output_type": "stream",
          "text": [
            "Mounted at /content/drive\n",
            "cuda:0\n"
          ],
          "name": "stdout"
        }
      ]
    },
    {
      "cell_type": "code",
      "metadata": {
        "colab": {
          "base_uri": "https://localhost:8080/"
        },
        "id": "YwlLf9FkP2MY",
        "outputId": "fe3d2f38-9a4a-424a-d231-084d57b7aba4"
      },
      "source": [
        "!nvidia-smi"
      ],
      "execution_count": null,
      "outputs": [
        {
          "output_type": "stream",
          "text": [
            "Wed Dec  9 13:32:52 2020       \n",
            "+-----------------------------------------------------------------------------+\n",
            "| NVIDIA-SMI 455.45.01    Driver Version: 418.67       CUDA Version: 10.1     |\n",
            "|-------------------------------+----------------------+----------------------+\n",
            "| GPU  Name        Persistence-M| Bus-Id        Disp.A | Volatile Uncorr. ECC |\n",
            "| Fan  Temp  Perf  Pwr:Usage/Cap|         Memory-Usage | GPU-Util  Compute M. |\n",
            "|                               |                      |               MIG M. |\n",
            "|===============================+======================+======================|\n",
            "|   0  Tesla T4            Off  | 00000000:00:04.0 Off |                    0 |\n",
            "| N/A   61C    P8    13W /  70W |     10MiB / 15079MiB |      0%      Default |\n",
            "|                               |                      |                 ERR! |\n",
            "+-------------------------------+----------------------+----------------------+\n",
            "                                                                               \n",
            "+-----------------------------------------------------------------------------+\n",
            "| Processes:                                                                  |\n",
            "|  GPU   GI   CI        PID   Type   Process name                  GPU Memory |\n",
            "|        ID   ID                                                   Usage      |\n",
            "|=============================================================================|\n",
            "|  No running processes found                                                 |\n",
            "+-----------------------------------------------------------------------------+\n"
          ],
          "name": "stdout"
        }
      ]
    },
    {
      "cell_type": "markdown",
      "metadata": {
        "id": "SOjjzcnnSU-e"
      },
      "source": [
        "## Introduction\n",
        "\n",
        "This project is a continuation of my midterm project reviewing and experimenting with ResNet and ImageNet. The goal of this project is to implement ResNet in a real use case on a real dataset, specifically on detecting Pneumonia in chest x-rays from [this Kaggle dataset]('https://www.kaggle.com/paultimothymooney/chest-xray-pneumonia') with at least 80%+ accuracy."
      ]
    },
    {
      "cell_type": "markdown",
      "metadata": {
        "id": "8j3GwHJSSU-e"
      },
      "source": [
        "## Importing libraries and images"
      ]
    },
    {
      "cell_type": "code",
      "metadata": {
        "colab": {
          "base_uri": "https://localhost:8080/"
        },
        "id": "oEB-qgN5SU-e",
        "outputId": "af836736-2538-4f9b-fbcc-6a05842e3e12"
      },
      "source": [
        "import numpy as np \n",
        "import pandas as pd \n",
        "import matplotlib.pyplot as plt\n",
        "import torch\n",
        "import torch.nn as nn\n",
        "import torch.optim as optim\n",
        "import torchvision\n",
        "from torchvision.datasets import ImageFolder\n",
        "from torchvision import models\n",
        "import torchvision.transforms as torchtrans\n",
        "from torch.utils.data.sampler import SubsetRandomSampler\n",
        "from sklearn.metrics import confusion_matrix, f1_score\n",
        "from mlxtend.plotting import plot_confusion_matrix\n",
        "import os\n",
        "import time\n",
        "import copy\n",
        "\n",
        "#folder where data was extracted\n",
        "if colab:\n",
        "  xray_data = '/content/drive/MyDrive/chest_xray/chest_xray'\n",
        "else:\n",
        "  xray_data = 'C:/Users/bagna/Nextcloud/College/2019-2020/ECE 5831/final project/chest_xray/chest_xray'\n",
        "\n",
        "#setup pytorch dataset to resize, crop, and convert images to tensors\n",
        "image_transforms = torchtrans.Compose([torchtrans.Resize(250), torchtrans.CenterCrop(244), torchtrans.ToTensor()])\n",
        "\n",
        "#used in attempt to combat overfitting\n",
        "image_trans_more = torchtrans.Compose([torchtrans.Resize(250), torchtrans.RandomRotation(180), torchtrans.CenterCrop(244), torchtrans.ToTensor()])\n",
        "\n",
        "#defining microbatch size and threads (in colab this did not show to have a large effect on performance)\n",
        "batch_size = 4\n",
        "workers = 4\n",
        "\n",
        "train_data = ImageFolder(xray_data + '/train', image_transforms)\n",
        "test_data = ImageFolder(xray_data + '/test', image_transforms)\n",
        "val_data = ImageFolder(xray_data + '/val', image_transforms)\n",
        "\n",
        "dataloader_train = torch.utils.data.DataLoader(train_data, batch_size = batch_size, shuffle = True, num_workers = workers)\n",
        "dataloader_test = torch.utils.data.DataLoader(test_data, batch_size = batch_size, shuffle = True, num_workers = workers)\n",
        "dataloader_val = torch.utils.data.DataLoader(val_data, batch_size = batch_size, shuffle = True, num_workers = workers)\n",
        "\n",
        "print(train_data)\n",
        "\n",
        "#creating new data indices for training and validation splits\n",
        "dataset = train_data\n",
        "dataset_size = len(train_data)\n",
        "indices = list(range(dataset_size))\n",
        "split = int(np.floor(.1 * dataset_size))\n",
        "np.random.seed(18)\n",
        "np.random.shuffle(indices)\n",
        "train_indices, val_indices = indices[split:], indices[:split]\n",
        "\n",
        "#creating PT data samplers and loaders\n",
        "train_sampler = SubsetRandomSampler(train_indices)\n",
        "valid_sampler = SubsetRandomSampler(val_indices)\n",
        "\n",
        "new_train_loader = torch.utils.data.DataLoader(dataset, batch_size=batch_size, sampler = train_sampler)\n",
        "new_test_loader = torch.utils.data.DataLoader(dataset, batch_size=batch_size, sampler = valid_sampler)"
      ],
      "execution_count": null,
      "outputs": [
        {
          "output_type": "stream",
          "text": [
            "Dataset ImageFolder\n",
            "    Number of datapoints: 5840\n",
            "    Root location: /content/drive/MyDrive/chest_xray/chest_xray/train\n",
            "    StandardTransform\n",
            "Transform: Compose(\n",
            "               Resize(size=250, interpolation=PIL.Image.BILINEAR)\n",
            "               CenterCrop(size=(244, 244))\n",
            "               ToTensor()\n",
            "           )\n"
          ],
          "name": "stdout"
        }
      ]
    },
    {
      "cell_type": "code",
      "metadata": {
        "colab": {
          "base_uri": "https://localhost:8080/",
          "height": 550
        },
        "id": "yxG8wBB6sKNU",
        "outputId": "e5bacf32-88c9-479b-f130-0ad45cbf1922"
      },
      "source": [
        "%matplotlib inline\n",
        "plt.rcParams['figure.figsize'] = [8, 6]\n",
        "plt.rcParams['figure.dpi'] = 100\n",
        "\n",
        "plt.figure()\n",
        "\n",
        "plot_labels = ['Train', 'Test']\n",
        "normal_len = [1575, 234]\n",
        "pneumonia_len = [4265, 390]\n",
        "\n",
        "x = np.arange(len(plot_labels))\n",
        "width = 0.35\n",
        "\n",
        "fig, ax = plt.subplots()\n",
        "rects1 = ax.bar(x - width/2, pneumonia_len, width, label = 'Pneumonia')\n",
        "rects2 = ax.bar(x + width/2, normal_len, width, label = 'Normal')\n",
        "\n",
        "# data_len.append(len(dataloader_train.dataset))\n",
        "# data_len.append(len(dataloader_test.dataset))\n",
        "plt.xlabel('Data Partitions')\n",
        "ax.set_xticks(x)\n",
        "ax.set_xticklabels(plot_labels)\n",
        "\n",
        "def autolabel(rects):\n",
        "    \"\"\"Attach a text label above each bar in *rects*, displaying its height.\"\"\"\n",
        "    for rect in rects:\n",
        "        height = rect.get_height()\n",
        "        ax.annotate('{}'.format(height),\n",
        "                    xy=(rect.get_x() + rect.get_width() / 2, height),\n",
        "                    xytext=(0, 3),  # 3 points vertical offset\n",
        "                    textcoords=\"offset points\",\n",
        "                    ha='center', va='bottom')\n",
        "        \n",
        "autolabel(rects1)\n",
        "autolabel(rects2)\n",
        "\n",
        "plt.ylabel('Quantity of Images')\n",
        "plt.legend()\n",
        "\n",
        "\n",
        "plt.show()"
      ],
      "execution_count": null,
      "outputs": [
        {
          "output_type": "display_data",
          "data": {
            "text/plain": [
              "<Figure size 800x600 with 0 Axes>"
            ]
          },
          "metadata": {
            "tags": []
          }
        },
        {
          "output_type": "display_data",
          "data": {
            "image/png": "[encoded data removed]",
            "text/plain": [
              "<Figure size 800x600 with 1 Axes>"
            ]
          },
          "metadata": {
            "tags": [],
            "needs_background": "light"
          }
        }
      ]
    },
    {
      "cell_type": "code",
      "metadata": {
        "colab": {
          "base_uri": "https://localhost:8080/",
          "height": 199
        },
        "id": "w6FdZl2RSU-f",
        "outputId": "6497202a-6dc5-48c7-988e-a0d9dbe8e0f0"
      },
      "source": [
        "%matplotlib inline\n",
        "image_norm = 14\n",
        "image_pneum = 3128\n",
        "\n",
        "plt.figure()\n",
        "plt.subplot(121)\n",
        "plt.imshow(train_data[image_norm][0].permute(1, 2, 0))\n",
        "\n",
        "if (train_data[image_norm][1] == 0):\n",
        "  plt.title('Normal')\n",
        "else:\n",
        "  plt.title('Pneumonia')\n",
        "\n",
        "plt.axis('off')\n",
        "\n",
        "plt.subplot(122)\n",
        "plt.imshow(train_data[image_pneum][0].permute(1, 2, 0))\n",
        "\n",
        "if (train_data[image_pneum][1] == 0):\n",
        "  plt.title('Normal')\n",
        "else:\n",
        "  plt.title('Pneumonia')\n",
        "\n",
        "plt.axis('off')\n",
        "plt.show()"
      ],
      "execution_count": null,
      "outputs": [
        {
          "output_type": "display_data",
          "data": {
            "image/png": "[encoded data removed]",
            "text/plain": [
              "<Figure size 432x288 with 2 Axes>"
            ]
          },
          "metadata": {
            "tags": [],
            "needs_background": "light"
          }
        }
      ]
    },
    {
      "cell_type": "markdown",
      "metadata": {
        "id": "6T7XKKHnSU-f"
      },
      "source": [
        "## Initializing model"
      ]
    },
    {
      "cell_type": "code",
      "metadata": {
        "colab": {
          "base_uri": "https://localhost:8080/"
        },
        "id": "pgPDYhvVSU-f",
        "outputId": "c7ab4d4a-83b9-4b6d-fb48-eb98c2d9599a"
      },
      "source": [
        "def init_model(model_to_load = 'resnet50', output_size = 244, train_all_layers = False):\n",
        "\n",
        "  if (model_to_load == 'resnet50'):\n",
        "    model = models.resnet50(pretrained = True)\n",
        "  elif (model_to_load == 'resnet18'):\n",
        "    model = models.resnet18(pretrained = True)\n",
        "  elif (model_to_load == 'resnet152'):\n",
        "    model = models.resnet152(pretrained = True)\n",
        "\n",
        "  #set each parmeter to not require finetuning unless reshaped\n",
        "  if (train_all_layers == False):\n",
        "    for param in model.parameters():\n",
        "      param.requires_grad = False\n",
        "\n",
        "  #reshaping the fully connected layer\n",
        "  model.fc = nn.Linear(model.fc.in_features, num_classes)\n",
        "  return model\n",
        "\n",
        "#classes to decide between, originally resnet has 1000 from imagenet, but for this application there are only 2: normal, or pneumatic\n",
        "num_classes = 2\n",
        "\n",
        "#initializing model, pretrained is essential to avoid long training periods since the focus of this project is fine-tuning\n",
        "model = init_model('resnet50', num_classes, False)\n",
        "\n",
        "print(model)"
      ],
      "execution_count": null,
      "outputs": [
        {
          "output_type": "stream",
          "text": [
            "ResNet(\n",
            "  (conv1): Conv2d(3, 64, kernel_size=(7, 7), stride=(2, 2), padding=(3, 3), bias=False)\n",
            "  (bn1): BatchNorm2d(64, eps=1e-05, momentum=0.1, affine=True, track_running_stats=True)\n",
            "  (relu): ReLU(inplace=True)\n",
            "  (maxpool): MaxPool2d(kernel_size=3, stride=2, padding=1, dilation=1, ceil_mode=False)\n",
            "  (layer1): Sequential(\n",
            "    (0): Bottleneck(\n",
            "      (conv1): Conv2d(64, 64, kernel_size=(1, 1), stride=(1, 1), bias=False)\n",
            "      (bn1): BatchNorm2d(64, eps=1e-05, momentum=0.1, affine=True, track_running_stats=True)\n",
            "      (conv2): Conv2d(64, 64, kernel_size=(3, 3), stride=(1, 1), padding=(1, 1), bias=False)\n",
            "      (bn2): BatchNorm2d(64, eps=1e-05, momentum=0.1, affine=True, track_running_stats=True)\n",
            "      (conv3): Conv2d(64, 256, kernel_size=(1, 1), stride=(1, 1), bias=False)\n",
            "      (bn3): BatchNorm2d(256, eps=1e-05, momentum=0.1, affine=True, track_running_stats=True)\n",
            "      (relu): ReLU(inplace=True)\n",
            "      (downsample): Sequential(\n",
            "        (0): Conv2d(64, 256, kernel_size=(1, 1), stride=(1, 1), bias=False)\n",
            "        (1): BatchNorm2d(256, eps=1e-05, momentum=0.1, affine=True, track_running_stats=True)\n",
            "      )\n",
            "    )\n",
            "    (1): Bottleneck(\n",
            "      (conv1): Conv2d(256, 64, kernel_size=(1, 1), stride=(1, 1), bias=False)\n",
            "      (bn1): BatchNorm2d(64, eps=1e-05, momentum=0.1, affine=True, track_running_stats=True)\n",
            "      (conv2): Conv2d(64, 64, kernel_size=(3, 3), stride=(1, 1), padding=(1, 1), bias=False)\n",
            "      (bn2): BatchNorm2d(64, eps=1e-05, momentum=0.1, affine=True, track_running_stats=True)\n",
            "      (conv3): Conv2d(64, 256, kernel_size=(1, 1), stride=(1, 1), bias=False)\n",
            "      (bn3): BatchNorm2d(256, eps=1e-05, momentum=0.1, affine=True, track_running_stats=True)\n",
            "      (relu): ReLU(inplace=True)\n",
            "    )\n",
            "    (2): Bottleneck(\n",
            "      (conv1): Conv2d(256, 64, kernel_size=(1, 1), stride=(1, 1), bias=False)\n",
            "      (bn1): BatchNorm2d(64, eps=1e-05, momentum=0.1, affine=True, track_running_stats=True)\n",
            "      (conv2): Conv2d(64, 64, kernel_size=(3, 3), stride=(1, 1), padding=(1, 1), bias=False)\n",
            "      (bn2): BatchNorm2d(64, eps=1e-05, momentum=0.1, affine=True, track_running_stats=True)\n",
            "      (conv3): Conv2d(64, 256, kernel_size=(1, 1), stride=(1, 1), bias=False)\n",
            "      (bn3): BatchNorm2d(256, eps=1e-05, momentum=0.1, affine=True, track_running_stats=True)\n",
            "      (relu): ReLU(inplace=True)\n",
            "    )\n",
            "  )\n",
            "  (layer2): Sequential(\n",
            "    (0): Bottleneck(\n",
            "      (conv1): Conv2d(256, 128, kernel_size=(1, 1), stride=(1, 1), bias=False)\n",
            "      (bn1): BatchNorm2d(128, eps=1e-05, momentum=0.1, affine=True, track_running_stats=True)\n",
            "      (conv2): Conv2d(128, 128, kernel_size=(3, 3), stride=(2, 2), padding=(1, 1), bias=False)\n",
            "      (bn2): BatchNorm2d(128, eps=1e-05, momentum=0.1, affine=True, track_running_stats=True)\n",
            "      (conv3): Conv2d(128, 512, kernel_size=(1, 1), stride=(1, 1), bias=False)\n",
            "      (bn3): BatchNorm2d(512, eps=1e-05, momentum=0.1, affine=True, track_running_stats=True)\n",
            "      (relu): ReLU(inplace=True)\n",
            "      (downsample): Sequential(\n",
            "        (0): Conv2d(256, 512, kernel_size=(1, 1), stride=(2, 2), bias=False)\n",
            "        (1): BatchNorm2d(512, eps=1e-05, momentum=0.1, affine=True, track_running_stats=True)\n",
            "      )\n",
            "    )\n",
            "    (1): Bottleneck(\n",
            "      (conv1): Conv2d(512, 128, kernel_size=(1, 1), stride=(1, 1), bias=False)\n",
            "      (bn1): BatchNorm2d(128, eps=1e-05, momentum=0.1, affine=True, track_running_stats=True)\n",
            "      (conv2): Conv2d(128, 128, kernel_size=(3, 3), stride=(1, 1), padding=(1, 1), bias=False)\n",
            "      (bn2): BatchNorm2d(128, eps=1e-05, momentum=0.1, affine=True, track_running_stats=True)\n",
            "      (conv3): Conv2d(128, 512, kernel_size=(1, 1), stride=(1, 1), bias=False)\n",
            "      (bn3): BatchNorm2d(512, eps=1e-05, momentum=0.1, affine=True, track_running_stats=True)\n",
            "      (relu): ReLU(inplace=True)\n",
            "    )\n",
            "    (2): Bottleneck(\n",
            "      (conv1): Conv2d(512, 128, kernel_size=(1, 1), stride=(1, 1), bias=False)\n",
            "      (bn1): BatchNorm2d(128, eps=1e-05, momentum=0.1, affine=True, track_running_stats=True)\n",
            "      (conv2): Conv2d(128, 128, kernel_size=(3, 3), stride=(1, 1), padding=(1, 1), bias=False)\n",
            "      (bn2): BatchNorm2d(128, eps=1e-05, momentum=0.1, affine=True, track_running_stats=True)\n",
            "      (conv3): Conv2d(128, 512, kernel_size=(1, 1), stride=(1, 1), bias=False)\n",
            "      (bn3): BatchNorm2d(512, eps=1e-05, momentum=0.1, affine=True, track_running_stats=True)\n",
            "      (relu): ReLU(inplace=True)\n",
            "    )\n",
            "    (3): Bottleneck(\n",
            "      (conv1): Conv2d(512, 128, kernel_size=(1, 1), stride=(1, 1), bias=False)\n",
            "      (bn1): BatchNorm2d(128, eps=1e-05, momentum=0.1, affine=True, track_running_stats=True)\n",
            "      (conv2): Conv2d(128, 128, kernel_size=(3, 3), stride=(1, 1), padding=(1, 1), bias=False)\n",
            "      (bn2): BatchNorm2d(128, eps=1e-05, momentum=0.1, affine=True, track_running_stats=True)\n",
            "      (conv3): Conv2d(128, 512, kernel_size=(1, 1), stride=(1, 1), bias=False)\n",
            "      (bn3): BatchNorm2d(512, eps=1e-05, momentum=0.1, affine=True, track_running_stats=True)\n",
            "      (relu): ReLU(inplace=True)\n",
            "    )\n",
            "  )\n",
            "  (layer3): Sequential(\n",
            "    (0): Bottleneck(\n",
            "      (conv1): Conv2d(512, 256, kernel_size=(1, 1), stride=(1, 1), bias=False)\n",
            "      (bn1): BatchNorm2d(256, eps=1e-05, momentum=0.1, affine=True, track_running_stats=True)\n",
            "      (conv2): Conv2d(256, 256, kernel_size=(3, 3), stride=(2, 2), padding=(1, 1), bias=False)\n",
            "      (bn2): BatchNorm2d(256, eps=1e-05, momentum=0.1, affine=True, track_running_stats=True)\n",
            "      (conv3): Conv2d(256, 1024, kernel_size=(1, 1), stride=(1, 1), bias=False)\n",
            "      (bn3): BatchNorm2d(1024, eps=1e-05, momentum=0.1, affine=True, track_running_stats=True)\n",
            "      (relu): ReLU(inplace=True)\n",
            "      (downsample): Sequential(\n",
            "        (0): Conv2d(512, 1024, kernel_size=(1, 1), stride=(2, 2), bias=False)\n",
            "        (1): BatchNorm2d(1024, eps=1e-05, momentum=0.1, affine=True, track_running_stats=True)\n",
            "      )\n",
            "    )\n",
            "    (1): Bottleneck(\n",
            "      (conv1): Conv2d(1024, 256, kernel_size=(1, 1), stride=(1, 1), bias=False)\n",
            "      (bn1): BatchNorm2d(256, eps=1e-05, momentum=0.1, affine=True, track_running_stats=True)\n",
            "      (conv2): Conv2d(256, 256, kernel_size=(3, 3), stride=(1, 1), padding=(1, 1), bias=False)\n",
            "      (bn2): BatchNorm2d(256, eps=1e-05, momentum=0.1, affine=True, track_running_stats=True)\n",
            "      (conv3): Conv2d(256, 1024, kernel_size=(1, 1), stride=(1, 1), bias=False)\n",
            "      (bn3): BatchNorm2d(1024, eps=1e-05, momentum=0.1, affine=True, track_running_stats=True)\n",
            "      (relu): ReLU(inplace=True)\n",
            "    )\n",
            "    (2): Bottleneck(\n",
            "      (conv1): Conv2d(1024, 256, kernel_size=(1, 1), stride=(1, 1), bias=False)\n",
            "      (bn1): BatchNorm2d(256, eps=1e-05, momentum=0.1, affine=True, track_running_stats=True)\n",
            "      (conv2): Conv2d(256, 256, kernel_size=(3, 3), stride=(1, 1), padding=(1, 1), bias=False)\n",
            "      (bn2): BatchNorm2d(256, eps=1e-05, momentum=0.1, affine=True, track_running_stats=True)\n",
            "      (conv3): Conv2d(256, 1024, kernel_size=(1, 1), stride=(1, 1), bias=False)\n",
            "      (bn3): BatchNorm2d(1024, eps=1e-05, momentum=0.1, affine=True, track_running_stats=True)\n",
            "      (relu): ReLU(inplace=True)\n",
            "    )\n",
            "    (3): Bottleneck(\n",
            "      (conv1): Conv2d(1024, 256, kernel_size=(1, 1), stride=(1, 1), bias=False)\n",
            "      (bn1): BatchNorm2d(256, eps=1e-05, momentum=0.1, affine=True, track_running_stats=True)\n",
            "      (conv2): Conv2d(256, 256, kernel_size=(3, 3), stride=(1, 1), padding=(1, 1), bias=False)\n",
            "      (bn2): BatchNorm2d(256, eps=1e-05, momentum=0.1, affine=True, track_running_stats=True)\n",
            "      (conv3): Conv2d(256, 1024, kernel_size=(1, 1), stride=(1, 1), bias=False)\n",
            "      (bn3): BatchNorm2d(1024, eps=1e-05, momentum=0.1, affine=True, track_running_stats=True)\n",
            "      (relu): ReLU(inplace=True)\n",
            "    )\n",
            "    (4): Bottleneck(\n",
            "      (conv1): Conv2d(1024, 256, kernel_size=(1, 1), stride=(1, 1), bias=False)\n",
            "      (bn1): BatchNorm2d(256, eps=1e-05, momentum=0.1, affine=True, track_running_stats=True)\n",
            "      (conv2): Conv2d(256, 256, kernel_size=(3, 3), stride=(1, 1), padding=(1, 1), bias=False)\n",
            "      (bn2): BatchNorm2d(256, eps=1e-05, momentum=0.1, affine=True, track_running_stats=True)\n",
            "      (conv3): Conv2d(256, 1024, kernel_size=(1, 1), stride=(1, 1), bias=False)\n",
            "      (bn3): BatchNorm2d(1024, eps=1e-05, momentum=0.1, affine=True, track_running_stats=True)\n",
            "      (relu): ReLU(inplace=True)\n",
            "    )\n",
            "    (5): Bottleneck(\n",
            "      (conv1): Conv2d(1024, 256, kernel_size=(1, 1), stride=(1, 1), bias=False)\n",
            "      (bn1): BatchNorm2d(256, eps=1e-05, momentum=0.1, affine=True, track_running_stats=True)\n",
            "      (conv2): Conv2d(256, 256, kernel_size=(3, 3), stride=(1, 1), padding=(1, 1), bias=False)\n",
            "      (bn2): BatchNorm2d(256, eps=1e-05, momentum=0.1, affine=True, track_running_stats=True)\n",
            "      (conv3): Conv2d(256, 1024, kernel_size=(1, 1), stride=(1, 1), bias=False)\n",
            "      (bn3): BatchNorm2d(1024, eps=1e-05, momentum=0.1, affine=True, track_running_stats=True)\n",
            "      (relu): ReLU(inplace=True)\n",
            "    )\n",
            "  )\n",
            "  (layer4): Sequential(\n",
            "    (0): Bottleneck(\n",
            "      (conv1): Conv2d(1024, 512, kernel_size=(1, 1), stride=(1, 1), bias=False)\n",
            "      (bn1): BatchNorm2d(512, eps=1e-05, momentum=0.1, affine=True, track_running_stats=True)\n",
            "      (conv2): Conv2d(512, 512, kernel_size=(3, 3), stride=(2, 2), padding=(1, 1), bias=False)\n",
            "      (bn2): BatchNorm2d(512, eps=1e-05, momentum=0.1, affine=True, track_running_stats=True)\n",
            "      (conv3): Conv2d(512, 2048, kernel_size=(1, 1), stride=(1, 1), bias=False)\n",
            "      (bn3): BatchNorm2d(2048, eps=1e-05, momentum=0.1, affine=True, track_running_stats=True)\n",
            "      (relu): ReLU(inplace=True)\n",
            "      (downsample): Sequential(\n",
            "        (0): Conv2d(1024, 2048, kernel_size=(1, 1), stride=(2, 2), bias=False)\n",
            "        (1): BatchNorm2d(2048, eps=1e-05, momentum=0.1, affine=True, track_running_stats=True)\n",
            "      )\n",
            "    )\n",
            "    (1): Bottleneck(\n",
            "      (conv1): Conv2d(2048, 512, kernel_size=(1, 1), stride=(1, 1), bias=False)\n",
            "      (bn1): BatchNorm2d(512, eps=1e-05, momentum=0.1, affine=True, track_running_stats=True)\n",
            "      (conv2): Conv2d(512, 512, kernel_size=(3, 3), stride=(1, 1), padding=(1, 1), bias=False)\n",
            "      (bn2): BatchNorm2d(512, eps=1e-05, momentum=0.1, affine=True, track_running_stats=True)\n",
            "      (conv3): Conv2d(512, 2048, kernel_size=(1, 1), stride=(1, 1), bias=False)\n",
            "      (bn3): BatchNorm2d(2048, eps=1e-05, momentum=0.1, affine=True, track_running_stats=True)\n",
            "      (relu): ReLU(inplace=True)\n",
            "    )\n",
            "    (2): Bottleneck(\n",
            "      (conv1): Conv2d(2048, 512, kernel_size=(1, 1), stride=(1, 1), bias=False)\n",
            "      (bn1): BatchNorm2d(512, eps=1e-05, momentum=0.1, affine=True, track_running_stats=True)\n",
            "      (conv2): Conv2d(512, 512, kernel_size=(3, 3), stride=(1, 1), padding=(1, 1), bias=False)\n",
            "      (bn2): BatchNorm2d(512, eps=1e-05, momentum=0.1, affine=True, track_running_stats=True)\n",
            "      (conv3): Conv2d(512, 2048, kernel_size=(1, 1), stride=(1, 1), bias=False)\n",
            "      (bn3): BatchNorm2d(2048, eps=1e-05, momentum=0.1, affine=True, track_running_stats=True)\n",
            "      (relu): ReLU(inplace=True)\n",
            "    )\n",
            "  )\n",
            "  (avgpool): AdaptiveAvgPool2d(output_size=(1, 1))\n",
            "  (fc): Linear(in_features=2048, out_features=2, bias=True)\n",
            ")\n"
          ],
          "name": "stdout"
        }
      ]
    },
    {
      "cell_type": "markdown",
      "metadata": {
        "id": "tGEo3lJRSU-f"
      },
      "source": [
        "After loading the model and reshaping it, the fully connected final layer now has 2 possible outputs instead of 1000."
      ]
    },
    {
      "cell_type": "code",
      "metadata": {
        "colab": {
          "base_uri": "https://localhost:8080/"
        },
        "id": "QEqFN7tcSU-f",
        "outputId": "1d45f5d1-69a2-4003-b19a-6285d1b89285"
      },
      "source": [
        "#display all parameters being trained\n",
        "print('Parameters being updated:')\n",
        "params = []\n",
        "for name, param in model.named_parameters():\n",
        "    if param.requires_grad == True:\n",
        "        params.append(param)\n",
        "        print(\"\\n\", name)\n",
        "\n",
        "#setup stochastic gradient descent optimizer\n",
        "learn_rate = 0.001\n",
        "learn_rate_fast = 0.01\n",
        "momentum = 0.9\n",
        "optimizer = optim.SGD(params, lr = learn_rate_fast, momentum = momentum)"
      ],
      "execution_count": null,
      "outputs": [
        {
          "output_type": "stream",
          "text": [
            "Parameters being updated:\n",
            "\n",
            " fc.weight\n",
            "\n",
            " fc.bias\n"
          ],
          "name": "stdout"
        }
      ]
    },
    {
      "cell_type": "code",
      "metadata": {
        "colab": {
          "base_uri": "https://localhost:8080/",
          "height": 1000
        },
        "id": "VWj_xYocSU-f",
        "outputId": "b982a55f-7af7-4cd0-f75e-60f0e7b8f2c3"
      },
      "source": [
        "#setup loss function and train model\n",
        "#cross entropy is a common technique for loss functions when classifying, in this case classifying an image as pneumonia or normal\n",
        "#define weight since there are more pneumonia than pictures than normal\n",
        "weights = [1.0, 1575/4265]\n",
        "weights = torch.FloatTensor(weights).to(device)\n",
        "criterion = nn.CrossEntropyLoss(weight = weights)\n",
        "\n",
        "#epochs to train for\n",
        "num_epochs = 20\n",
        "\n",
        "start_time = time.time()\n",
        "\n",
        "#validation history\n",
        "vald_accuracy_hist = []\n",
        "\n",
        "best_model = copy.deepcopy(model.state_dict())\n",
        "best_accuracy = 0.0\n",
        "\n",
        "#send model to device\n",
        "model = model.to(device)\n",
        "print('Model moved to ' + str(device))\n",
        "\n",
        "for epoch in range(num_epochs):\n",
        "    print('Epoch: ' + str(epoch) + '/' + str(num_epochs - 1))\n",
        "\n",
        "    #train and validate each epoch\n",
        "    for phase in ['train', 'val']:\n",
        "        if phase == 'train':\n",
        "            model.train()\n",
        "        else:\n",
        "            model.eval()\n",
        "\n",
        "        running_loss = 0.0\n",
        "        running_correct = 0\n",
        "        \n",
        "        if phase == 'train':\n",
        "            data = dataloader_train\n",
        "        else:\n",
        "            data = dataloader_test\n",
        "\n",
        "        for inputs, labels in data:\n",
        "            inputs = inputs.to(device)\n",
        "            labels = labels.to(device)\n",
        "\n",
        "            #initialize parameter gradients\n",
        "            optimizer.zero_grad()\n",
        "\n",
        "            #record history while training\n",
        "            with torch.set_grad_enabled(phase == 'train'):\n",
        "                outputs = model(inputs)\n",
        "                loss = criterion(outputs, labels)\n",
        "\n",
        "                _, preds = torch.max(outputs, 1)\n",
        "\n",
        "                if phase == 'train':\n",
        "                    loss.backward()\n",
        "                    optimizer.step()\n",
        "\n",
        "            running_loss += loss.item() * inputs.size(0)\n",
        "            running_correct += torch.sum(preds == labels.data)\n",
        "\n",
        "        epoch_loss = running_loss / len(data.dataset)\n",
        "        epoch_acc = running_correct.double() / len(data.dataset)\n",
        "\n",
        "        print(phase + ' Loss: ' + str(epoch_loss) + ' Accuracy: ' + str(epoch_acc))\n",
        "\n",
        "        if phase == 'val' and epoch_acc > best_accuracy:\n",
        "            best_accuracy = epoch_acc\n",
        "            best_model = copy.deepcopy(model.state_dict())\n",
        "        if phase == 'val':\n",
        "            vald_accuracy_hist.append(epoch_acc)\n",
        "        \n",
        "        #newline\n",
        "        print()\n",
        "        time_elapsed = time.time() - start_time\n",
        "        print('Total training time so far: ' + str(time_elapsed))\n",
        "\n",
        "time_elapsed = time.time() - start_time\n",
        "print('Training completed in ' + str(time_elapsed))\n",
        "print('Best val Acc: ' + str(best_accuracy))\n",
        "\n",
        "model.load_state_dict(best_model)\n",
        "\n",
        "#save model\n",
        "torch.save(model.state_dict(), 'checkpoint.pth')\n",
        "files.download('checkpoint.pth')"
      ],
      "execution_count": null,
      "outputs": [
        {
          "output_type": "stream",
          "text": [
            "Model moved to GPU\n",
            "Epoch: 0/19\n",
            "train Loss: 2.9705082444767203 Accuracy: tensor(0.8096, device='cuda:0', dtype=torch.float64)\n",
            "\n",
            "Total training time so far: 101.1511025428772\n",
            "val Loss: 2.4616822331429784 Accuracy: tensor(0.8942, device='cuda:0', dtype=torch.float64)\n",
            "\n",
            "Total training time so far: 111.89271855354309\n",
            "Epoch: 1/19\n",
            "train Loss: 2.7335153486728108 Accuracy: tensor(0.8396, device='cuda:0', dtype=torch.float64)\n",
            "\n",
            "Total training time so far: 212.56402826309204\n",
            "val Loss: 1.498828873108448 Accuracy: tensor(0.8558, device='cuda:0', dtype=torch.float64)\n",
            "\n",
            "Total training time so far: 223.09419870376587\n",
            "Epoch: 2/19\n",
            "train Loss: 2.8804375391767207 Accuracy: tensor(0.8474, device='cuda:0', dtype=torch.float64)\n",
            "\n",
            "Total training time so far: 323.4769630432129\n",
            "val Loss: 3.0522568187440102 Accuracy: tensor(0.8926, device='cuda:0', dtype=torch.float64)\n",
            "\n",
            "Total training time so far: 333.9712917804718\n",
            "Epoch: 3/19\n",
            "train Loss: 2.5555185957648465 Accuracy: tensor(0.8599, device='cuda:0', dtype=torch.float64)\n",
            "\n",
            "Total training time so far: 434.69062662124634\n",
            "val Loss: 3.111908534577595 Accuracy: tensor(0.8734, device='cuda:0', dtype=torch.float64)\n",
            "\n",
            "Total training time so far: 445.2459580898285\n",
            "Epoch: 4/19\n",
            "train Loss: 2.5642756275085055 Accuracy: tensor(0.8574, device='cuda:0', dtype=torch.float64)\n",
            "\n",
            "Total training time so far: 545.7334053516388\n",
            "val Loss: 1.697785487757413 Accuracy: tensor(0.8654, device='cuda:0', dtype=torch.float64)\n",
            "\n",
            "Total training time so far: 556.2430975437164\n",
            "Epoch: 5/19\n",
            "train Loss: 2.5092741500875175 Accuracy: tensor(0.8524, device='cuda:0', dtype=torch.float64)\n",
            "\n",
            "Total training time so far: 656.3889923095703\n",
            "val Loss: 1.3125264875184157 Accuracy: tensor(0.8926, device='cuda:0', dtype=torch.float64)\n",
            "\n",
            "Total training time so far: 667.0649015903473\n",
            "Epoch: 6/19\n",
            "train Loss: 2.3066562296817446 Accuracy: tensor(0.8673, device='cuda:0', dtype=torch.float64)\n",
            "\n",
            "Total training time so far: 767.9797804355621\n",
            "val Loss: 1.4951951361133995 Accuracy: tensor(0.9183, device='cuda:0', dtype=torch.float64)\n",
            "\n",
            "Total training time so far: 778.6758208274841\n",
            "Epoch: 7/19\n",
            "train Loss: 2.4427087696982275 Accuracy: tensor(0.8721, device='cuda:0', dtype=torch.float64)\n",
            "\n",
            "Total training time so far: 879.7638444900513\n",
            "val Loss: 1.6661039998674785 Accuracy: tensor(0.9087, device='cuda:0', dtype=torch.float64)\n",
            "\n",
            "Total training time so far: 890.3369038105011\n",
            "Epoch: 8/19\n",
            "train Loss: 2.2652724063451735 Accuracy: tensor(0.8731, device='cuda:0', dtype=torch.float64)\n",
            "\n",
            "Total training time so far: 990.0972833633423\n",
            "val Loss: 1.3642962947045931 Accuracy: tensor(0.9199, device='cuda:0', dtype=torch.float64)\n",
            "\n",
            "Total training time so far: 1000.7053124904633\n",
            "Epoch: 9/19\n",
            "train Loss: 2.5193081431348867 Accuracy: tensor(0.8634, device='cuda:0', dtype=torch.float64)\n",
            "\n",
            "Total training time so far: 1100.1816482543945\n",
            "val Loss: 4.195482211405917 Accuracy: tensor(0.8558, device='cuda:0', dtype=torch.float64)\n",
            "\n",
            "Total training time so far: 1110.6831140518188\n",
            "Epoch: 10/19\n",
            "train Loss: 1.9297199143461494 Accuracy: tensor(0.8764, device='cuda:0', dtype=torch.float64)\n",
            "\n",
            "Total training time so far: 1211.8671929836273\n",
            "val Loss: 6.2693106892075 Accuracy: tensor(0.8157, device='cuda:0', dtype=torch.float64)\n",
            "\n",
            "Total training time so far: 1222.997027873993\n",
            "Epoch: 11/19\n",
            "train Loss: 1.8107106172357863 Accuracy: tensor(0.8820, device='cuda:0', dtype=torch.float64)\n",
            "\n",
            "Total training time so far: 1325.1984367370605\n",
            "val Loss: 1.1370107428064609 Accuracy: tensor(0.9199, device='cuda:0', dtype=torch.float64)\n",
            "\n",
            "Total training time so far: 1335.7978904247284\n",
            "Epoch: 12/19\n",
            "train Loss: 2.153537683298251 Accuracy: tensor(0.8796, device='cuda:0', dtype=torch.float64)\n",
            "\n",
            "Total training time so far: 1437.4684958457947\n",
            "val Loss: 1.7475224696433058 Accuracy: tensor(0.9103, device='cuda:0', dtype=torch.float64)\n",
            "\n",
            "Total training time so far: 1448.1381001472473\n",
            "Epoch: 13/19\n",
            "train Loss: 2.3956104959286884 Accuracy: tensor(0.8673, device='cuda:0', dtype=torch.float64)\n",
            "\n",
            "Total training time so far: 1549.530931711197\n",
            "val Loss: 1.6763666983081948 Accuracy: tensor(0.9119, device='cuda:0', dtype=torch.float64)\n",
            "\n",
            "Total training time so far: 1560.3561215400696\n",
            "Epoch: 14/19\n",
            "train Loss: 2.0576879139472903 Accuracy: tensor(0.8795, device='cuda:0', dtype=torch.float64)\n",
            "\n",
            "Total training time so far: 1661.6100771427155\n",
            "val Loss: 2.3432106627257125 Accuracy: tensor(0.8157, device='cuda:0', dtype=torch.float64)\n",
            "\n",
            "Total training time so far: 1672.1848797798157\n",
            "Epoch: 15/19\n",
            "train Loss: 2.533307817716354 Accuracy: tensor(0.8690, device='cuda:0', dtype=torch.float64)\n",
            "\n",
            "Total training time so far: 1772.701720714569\n",
            "val Loss: 4.243526370687007 Accuracy: tensor(0.8654, device='cuda:0', dtype=torch.float64)\n",
            "\n",
            "Total training time so far: 1783.2691915035248\n",
            "Epoch: 16/19\n",
            "train Loss: 2.070082236966114 Accuracy: tensor(0.8707, device='cuda:0', dtype=torch.float64)\n",
            "\n",
            "Total training time so far: 1883.3442747592926\n",
            "val Loss: 6.412776836280405 Accuracy: tensor(0.7917, device='cuda:0', dtype=torch.float64)\n",
            "\n",
            "Total training time so far: 1893.91353058815\n",
            "Epoch: 17/19\n",
            "train Loss: 1.885913405334139 Accuracy: tensor(0.8830, device='cuda:0', dtype=torch.float64)\n",
            "\n",
            "Total training time so far: 1994.2285578250885\n",
            "val Loss: 2.520679744683908 Accuracy: tensor(0.8862, device='cuda:0', dtype=torch.float64)\n",
            "\n",
            "Total training time so far: 2004.8306806087494\n",
            "Epoch: 18/19\n",
            "train Loss: 2.010721281423686 Accuracy: tensor(0.8762, device='cuda:0', dtype=torch.float64)\n",
            "\n",
            "Total training time so far: 2105.360966682434\n",
            "val Loss: 0.8365521817845197 Accuracy: tensor(0.9311, device='cuda:0', dtype=torch.float64)\n",
            "\n",
            "Total training time so far: 2115.894991159439\n",
            "Epoch: 19/19\n",
            "train Loss: 1.8718500683214985 Accuracy: tensor(0.8834, device='cuda:0', dtype=torch.float64)\n",
            "\n",
            "Total training time so far: 2215.7168951034546\n",
            "val Loss: 3.55889363183515 Accuracy: tensor(0.8766, device='cuda:0', dtype=torch.float64)\n",
            "\n",
            "Total training time so far: 2225.984176158905\n",
            "Training completed in 2225.984430551529\n",
            "Best val Acc: tensor(0.9311, device='cuda:0', dtype=torch.float64)\n"
          ],
          "name": "stdout"
        },
        {
          "output_type": "display_data",
          "data": {
            "application/javascript": [
              "\n",
              "    async function download(id, filename, size) {\n",
              "      if (!google.colab.kernel.accessAllowed) {\n",
              "        return;\n",
              "      }\n",
              "      const div = document.createElement('div');\n",
              "      const label = document.createElement('label');\n",
              "      label.textContent = `Downloading \"${filename}\": `;\n",
              "      div.appendChild(label);\n",
              "      const progress = document.createElement('progress');\n",
              "      progress.max = size;\n",
              "      div.appendChild(progress);\n",
              "      document.body.appendChild(div);\n",
              "\n",
              "      const buffers = [];\n",
              "      let downloaded = 0;\n",
              "\n",
              "      const channel = await google.colab.kernel.comms.open(id);\n",
              "      // Send a message to notify the kernel that we're ready.\n",
              "      channel.send({})\n",
              "\n",
              "      for await (const message of channel.messages) {\n",
              "        // Send a message to notify the kernel that we're ready.\n",
              "        channel.send({})\n",
              "        if (message.buffers) {\n",
              "          for (const buffer of message.buffers) {\n",
              "            buffers.push(buffer);\n",
              "            downloaded += buffer.byteLength;\n",
              "            progress.value = downloaded;\n",
              "          }\n",
              "        }\n",
              "      }\n",
              "      const blob = new Blob(buffers, {type: 'application/binary'});\n",
              "      const a = document.createElement('a');\n",
              "      a.href = window.URL.createObjectURL(blob);\n",
              "      a.download = filename;\n",
              "      div.appendChild(a);\n",
              "      a.click();\n",
              "      div.remove();\n",
              "    }\n",
              "  "
            ],
            "text/plain": [
              "<IPython.core.display.Javascript object>"
            ]
          },
          "metadata": {
            "tags": []
          }
        },
        {
          "output_type": "display_data",
          "data": {
            "application/javascript": [
              "download(\"download_50538100-9124-4bad-a0ec-2151d59bcffa\", \"checkpoint.pth\", 94369795)"
            ],
            "text/plain": [
              "<IPython.core.display.Javascript object>"
            ]
          },
          "metadata": {
            "tags": []
          }
        }
      ]
    },
    {
      "cell_type": "code",
      "metadata": {
        "colab": {
          "base_uri": "https://localhost:8080/",
          "height": 572
        },
        "id": "iJTKWfT2FXcd",
        "outputId": "f4fed488-e83f-4524-e2eb-bfe8ee88fb58"
      },
      "source": [
        "%matplotlib inline\n",
        "plt.rcParams['figure.figsize'] = [8, 6]\n",
        "plt.rcParams['figure.dpi'] = 100\n",
        "\n",
        "plt.figure()\n",
        "plt.plot(vald_accuracy_hist)\n",
        "plt.title('Test Accuracy by Epoch')\n",
        "plt.xlabel('Epoch')\n",
        "plt.ylabel(' Accuracy')"
      ],
      "execution_count": null,
      "outputs": [
        {
          "output_type": "execute_result",
          "data": {
            "text/plain": [
              "Text(0, 0.5, ' Accuracy')"
            ]
          },
          "metadata": {
            "tags": []
          },
          "execution_count": 24
        },
        {
          "output_type": "display_data",
          "data": {
            "image/png": "[encoded data removed]",
            "text/plain": [
              "<Figure size 800x600 with 1 Axes>"
            ]
          },
          "metadata": {
            "tags": [],
            "needs_background": "light"
          }
        }
      ]
    },
    {
      "cell_type": "markdown",
      "metadata": {
        "id": "dkVMeKZE_U1v"
      },
      "source": [
        "## Evaluating trained models"
      ]
    },
    {
      "cell_type": "code",
      "metadata": {
        "colab": {
          "base_uri": "https://localhost:8080/"
        },
        "id": "WQ7a4b6fSU-f",
        "outputId": "0dddbb2c-9ab7-496f-a801-2bdc6fbd2b10"
      },
      "source": [
        "# #load trained model\n",
        "\n",
        "# #fc only\n",
        "# res18 = '/content/drive/MyDrive/checkpoint_res18_20_epoch.pth'\n",
        "# res50 = '/content/drive/MyDrive/checkpoint_res50_20_epoch.pth'\n",
        "# res152 = '/content/drive/MyDrive/checkpoint_res152_20_epoch.pth'\n",
        "\n",
        "# #full network\n",
        "# res50_full = '/content/drive/MyDrive/checkpoint_resnet_50_full_model_epoch_50.pth'\n",
        "# res18_fast = '/content/drive/MyDrive/checkpoint_res18_20_epoch_fast_learn.pth'\n",
        "\n",
        "# model = init_model(models.resnet50(pretrained = True), 2)\n",
        "\n",
        "# #load saved states\n",
        "# state_dict = torch.load(res50_full)\n",
        "# model.load_state_dict(state_dict)\n",
        "\n",
        "#set model into evaluation mode to prevent weights from changing\n",
        "model.eval()\n",
        "\n",
        "#testing model on validation images not used during training or testing\n",
        "correct = 0\n",
        "total = 0\n",
        "\n",
        "#setup arrays for stat calculations and plotting since dataloader loads in batches\n",
        "all_groundtruth = np.empty([0], int)\n",
        "all_predicted = np.empty([0], int)\n",
        "\n",
        "#use test set (used to test while training) or validation set (unseen by model before this point, only 16 images)\n",
        "# data = dataloader_val\n",
        "data = dataloader_test\n",
        "\n",
        "first_run = True\n",
        "\n",
        "with torch.no_grad():\n",
        "    for inputs, labels in data:\n",
        "        inputs = inputs.to(device)\n",
        "        labels = labels.to(device)\n",
        "        model = model.to(device)\n",
        "\n",
        "        outputs = model(inputs)\n",
        "        _, predicted = torch.max(outputs.data, 1)\n",
        "\n",
        "        #add predicted values for this batch to total for aditional accuracy calcs\n",
        "        if first_run:\n",
        "          all_predicted = predicted.cpu().numpy()\n",
        "          all_groundtruth = labels.cpu().numpy()\n",
        "        else:\n",
        "          all_predicted = np.append(all_predicted, predicted.cpu().numpy())\n",
        "          all_groundtruth = np.append(all_groundtruth, labels.cpu().numpy())\n",
        "\n",
        "        total += labels.size(0)\n",
        "        correct += (predicted == labels).sum().item()\n",
        "        first_run = False\n",
        "\n",
        "print('Accuracy of the network on the ' + str(len(data.dataset)) + ' images: ' + str(\n",
        "    100 * correct / total))"
      ],
      "execution_count": null,
      "outputs": [
        {
          "output_type": "stream",
          "text": [
            "Accuracy of the network on the 624 images: 93.10897435897436\n"
          ],
          "name": "stdout"
        }
      ]
    },
    {
      "cell_type": "code",
      "metadata": {
        "colab": {
          "base_uri": "https://localhost:8080/"
        },
        "id": "n1A4jGqrWhMD",
        "outputId": "19308cb7-5ecf-4e01-ff2c-d77535b4f0e6"
      },
      "source": [
        "print(f1_score(all_groundtruth, all_predicted, pos_label=1))"
      ],
      "execution_count": null,
      "outputs": [
        {
          "output_type": "stream",
          "text": [
            "0.9443725743855109\n"
          ],
          "name": "stdout"
        }
      ]
    },
    {
      "cell_type": "code",
      "metadata": {
        "colab": {
          "base_uri": "https://localhost:8080/",
          "height": 717
        },
        "id": "FuvvvvEr1diI",
        "outputId": "890c7441-5700-4b8a-dc09-3d75349790e2"
      },
      "source": [
        "#plot accuracy/ lost over epochs\n",
        "#plot confusion matrix\n",
        "cm  = confusion_matrix(all_groundtruth, all_predicted)\n",
        "plt.figure()\n",
        "plot_confusion_matrix(cm,figsize=(12,8),cmap=plt.cm.Blues)\n",
        "plt.xticks(range(2), ['Normal', 'Pneumonia'], fontsize=16)\n",
        "plt.yticks(range(2), ['Normal', 'Pneumonia'], fontsize=16)\n",
        "plt.xlabel('Predicted Label',fontsize=18)\n",
        "plt.ylabel('True Label',fontsize=18)\n",
        "plt.show()\n",
        "\n",
        "#demo of a few images\n"
      ],
      "execution_count": null,
      "outputs": [
        {
          "output_type": "display_data",
          "data": {
            "text/plain": [
              "<Figure size 800x600 with 0 Axes>"
            ]
          },
          "metadata": {
            "tags": []
          }
        },
        {
          "output_type": "display_data",
          "data": {
            "image/png": "[encoded data removed]",
            "text/plain": [
              "<Figure size 1200x800 with 1 Axes>"
            ]
          },
          "metadata": {
            "tags": [],
            "needs_background": "light"
          }
        }
      ]
    }
  ]
}